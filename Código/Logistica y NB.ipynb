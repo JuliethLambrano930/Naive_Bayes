{
 "cells": [
  {
   "cell_type": "code",
   "execution_count": 2,
   "metadata": {},
   "outputs": [],
   "source": [
    "## Importamos las librerias necesarias\n",
    "import pandas as pd\n",
    "import numpy as np\n",
    "import matplotlib.pyplot as plt\n",
    "import seaborn as sns\n",
    "\n",
    "# Cargamos el dataset\n",
    "\n",
    "df = pd.read_csv('../Datos/usuarios_win_mac_lin.csv')\n",
    "\n"
   ]
  },
  {
   "cell_type": "code",
   "execution_count": 2,
   "metadata": {},
   "outputs": [],
   "source": [
    "X=df[['duracion','paginas','acciones','valor']]\n",
    "y=df['clase']"
   ]
  },
  {
   "cell_type": "code",
   "execution_count": 3,
   "metadata": {},
   "outputs": [],
   "source": [
    "### PASO 2 train-test-split\n",
    "\n",
    "from sklearn.model_selection import train_test_split\n",
    "\n",
    "X_train,X_test,y_train,y_test =train_test_split(X,y,test_size=0.3,random_state=42)"
   ]
  },
  {
   "cell_type": "code",
   "execution_count": 4,
   "metadata": {},
   "outputs": [],
   "source": [
    "### PASO 3 Definir dos modelos\n",
    "from sklearn.linear_model import LogisticRegression\n",
    "from sklearn.naive_bayes import GaussianNB\n",
    "\n",
    "model_log=LogisticRegression(max_iter=1000)\n",
    "model_NB=GaussianNB()"
   ]
  },
  {
   "cell_type": "code",
   "execution_count": 5,
   "metadata": {},
   "outputs": [
    {
     "data": {
      "text/html": [
       "<style>#sk-container-id-1 {color: black;background-color: white;}#sk-container-id-1 pre{padding: 0;}#sk-container-id-1 div.sk-toggleable {background-color: white;}#sk-container-id-1 label.sk-toggleable__label {cursor: pointer;display: block;width: 100%;margin-bottom: 0;padding: 0.3em;box-sizing: border-box;text-align: center;}#sk-container-id-1 label.sk-toggleable__label-arrow:before {content: \"▸\";float: left;margin-right: 0.25em;color: #696969;}#sk-container-id-1 label.sk-toggleable__label-arrow:hover:before {color: black;}#sk-container-id-1 div.sk-estimator:hover label.sk-toggleable__label-arrow:before {color: black;}#sk-container-id-1 div.sk-toggleable__content {max-height: 0;max-width: 0;overflow: hidden;text-align: left;background-color: #f0f8ff;}#sk-container-id-1 div.sk-toggleable__content pre {margin: 0.2em;color: black;border-radius: 0.25em;background-color: #f0f8ff;}#sk-container-id-1 input.sk-toggleable__control:checked~div.sk-toggleable__content {max-height: 200px;max-width: 100%;overflow: auto;}#sk-container-id-1 input.sk-toggleable__control:checked~label.sk-toggleable__label-arrow:before {content: \"▾\";}#sk-container-id-1 div.sk-estimator input.sk-toggleable__control:checked~label.sk-toggleable__label {background-color: #d4ebff;}#sk-container-id-1 div.sk-label input.sk-toggleable__control:checked~label.sk-toggleable__label {background-color: #d4ebff;}#sk-container-id-1 input.sk-hidden--visually {border: 0;clip: rect(1px 1px 1px 1px);clip: rect(1px, 1px, 1px, 1px);height: 1px;margin: -1px;overflow: hidden;padding: 0;position: absolute;width: 1px;}#sk-container-id-1 div.sk-estimator {font-family: monospace;background-color: #f0f8ff;border: 1px dotted black;border-radius: 0.25em;box-sizing: border-box;margin-bottom: 0.5em;}#sk-container-id-1 div.sk-estimator:hover {background-color: #d4ebff;}#sk-container-id-1 div.sk-parallel-item::after {content: \"\";width: 100%;border-bottom: 1px solid gray;flex-grow: 1;}#sk-container-id-1 div.sk-label:hover label.sk-toggleable__label {background-color: #d4ebff;}#sk-container-id-1 div.sk-serial::before {content: \"\";position: absolute;border-left: 1px solid gray;box-sizing: border-box;top: 0;bottom: 0;left: 50%;z-index: 0;}#sk-container-id-1 div.sk-serial {display: flex;flex-direction: column;align-items: center;background-color: white;padding-right: 0.2em;padding-left: 0.2em;position: relative;}#sk-container-id-1 div.sk-item {position: relative;z-index: 1;}#sk-container-id-1 div.sk-parallel {display: flex;align-items: stretch;justify-content: center;background-color: white;position: relative;}#sk-container-id-1 div.sk-item::before, #sk-container-id-1 div.sk-parallel-item::before {content: \"\";position: absolute;border-left: 1px solid gray;box-sizing: border-box;top: 0;bottom: 0;left: 50%;z-index: -1;}#sk-container-id-1 div.sk-parallel-item {display: flex;flex-direction: column;z-index: 1;position: relative;background-color: white;}#sk-container-id-1 div.sk-parallel-item:first-child::after {align-self: flex-end;width: 50%;}#sk-container-id-1 div.sk-parallel-item:last-child::after {align-self: flex-start;width: 50%;}#sk-container-id-1 div.sk-parallel-item:only-child::after {width: 0;}#sk-container-id-1 div.sk-dashed-wrapped {border: 1px dashed gray;margin: 0 0.4em 0.5em 0.4em;box-sizing: border-box;padding-bottom: 0.4em;background-color: white;}#sk-container-id-1 div.sk-label label {font-family: monospace;font-weight: bold;display: inline-block;line-height: 1.2em;}#sk-container-id-1 div.sk-label-container {text-align: center;}#sk-container-id-1 div.sk-container {/* jupyter's `normalize.less` sets `[hidden] { display: none; }` but bootstrap.min.css set `[hidden] { display: none !important; }` so we also need the `!important` here to be able to override the default hidden behavior on the sphinx rendered scikit-learn.org. See: https://github.com/scikit-learn/scikit-learn/issues/21755 */display: inline-block !important;position: relative;}#sk-container-id-1 div.sk-text-repr-fallback {display: none;}</style><div id=\"sk-container-id-1\" class=\"sk-top-container\"><div class=\"sk-text-repr-fallback\"><pre>GaussianNB()</pre><b>In a Jupyter environment, please rerun this cell to show the HTML representation or trust the notebook. <br />On GitHub, the HTML representation is unable to render, please try loading this page with nbviewer.org.</b></div><div class=\"sk-container\" hidden><div class=\"sk-item\"><div class=\"sk-estimator sk-toggleable\"><input class=\"sk-toggleable__control sk-hidden--visually\" id=\"sk-estimator-id-1\" type=\"checkbox\" checked><label for=\"sk-estimator-id-1\" class=\"sk-toggleable__label sk-toggleable__label-arrow\">GaussianNB</label><div class=\"sk-toggleable__content\"><pre>GaussianNB()</pre></div></div></div></div></div>"
      ],
      "text/plain": [
       "GaussianNB()"
      ]
     },
     "execution_count": 5,
     "metadata": {},
     "output_type": "execute_result"
    }
   ],
   "source": [
    "## PASO 4 Ajustar\n",
    "\n",
    "model_log.fit(X_train,y_train)\n",
    "model_NB.fit(X_train,y_train)"
   ]
  },
  {
   "cell_type": "code",
   "execution_count": 6,
   "metadata": {},
   "outputs": [
    {
     "data": {
      "text/plain": [
       "139    0\n",
       "30     1\n",
       "119    2\n",
       "29     1\n",
       "144    0\n",
       "163    0\n",
       "166    0\n",
       "51     0\n",
       "105    1\n",
       "60     0\n",
       "15     2\n",
       "158    0\n",
       "135    0\n",
       "45     1\n",
       "68     0\n",
       "85     0\n",
       "24     1\n",
       "109    1\n",
       "75     0\n",
       "108    1\n",
       "19     1\n",
       "16     2\n",
       "31     1\n",
       "18     1\n",
       "12     2\n",
       "9      2\n",
       "82     0\n",
       "98     1\n",
       "76     0\n",
       "55     0\n",
       "42     1\n",
       "56     0\n",
       "150    0\n",
       "111    2\n",
       "69     0\n",
       "138    0\n",
       "2      2\n",
       "93     0\n",
       "136    0\n",
       "156    0\n",
       "90     0\n",
       "114    2\n",
       "26     1\n",
       "146    0\n",
       "137    0\n",
       "97     2\n",
       "65     0\n",
       "36     2\n",
       "126    2\n",
       "22     1\n",
       "101    1\n",
       "Name: clase, dtype: int64"
      ]
     },
     "execution_count": 6,
     "metadata": {},
     "output_type": "execute_result"
    }
   ],
   "source": [
    "y_test"
   ]
  },
  {
   "cell_type": "code",
   "execution_count": 7,
   "metadata": {},
   "outputs": [],
   "source": [
    "## PASO 5 predecir\n",
    "\n",
    "y_pred_log=model_log.predict(X_test)\n",
    "y_pred_NB=model_NB.predict(X_test)\n",
    "\n",
    "y_pred_proba_log=model_log.predict_proba(X_test)\n",
    "y_pred_proba_NB=model_NB.predict_proba(X_test)"
   ]
  },
  {
   "cell_type": "code",
   "execution_count": 8,
   "metadata": {},
   "outputs": [],
   "source": [
    "### PASO 6 EVALUAR\n",
    "\n",
    "from sklearn.metrics import confusion_matrix, classification_report, roc_curve, roc_auc_score\n",
    "from sklearn.metrics import precision_recall_curve, auc"
   ]
  },
  {
   "cell_type": "code",
   "execution_count": 9,
   "metadata": {},
   "outputs": [
    {
     "name": "stdout",
     "output_type": "stream",
     "text": [
      "[[21  3  1]\n",
      " [10  5  0]\n",
      " [ 0  0 11]]\n"
     ]
    }
   ],
   "source": [
    "#### Revisión de la logistica\n",
    "\n",
    "print(confusion_matrix(y_test,y_pred_log))"
   ]
  },
  {
   "cell_type": "code",
   "execution_count": 10,
   "metadata": {},
   "outputs": [
    {
     "name": "stdout",
     "output_type": "stream",
     "text": [
      "              precision    recall  f1-score   support\n",
      "\n",
      "           0       0.68      0.84      0.75        25\n",
      "           1       0.62      0.33      0.43        15\n",
      "           2       0.92      1.00      0.96        11\n",
      "\n",
      "    accuracy                           0.73        51\n",
      "   macro avg       0.74      0.72      0.71        51\n",
      "weighted avg       0.71      0.73      0.70        51\n",
      "\n"
     ]
    }
   ],
   "source": [
    "print(classification_report(y_test,y_pred_log))"
   ]
  },
  {
   "cell_type": "code",
   "execution_count": 11,
   "metadata": {},
   "outputs": [
    {
     "data": {
      "image/png": "[encoded data removed]",
      "text/plain": [
       "<Figure size 640x480 with 1 Axes>"
      ]
     },
     "metadata": {},
     "output_type": "display_data"
    }
   ],
   "source": [
    "threshold= np.arange(0.01,0.99,0.01)\n",
    "precision=[]\n",
    "recall=[]\n",
    "f1=[]\n",
    "tpr=[]\n",
    "fpr=[]\n",
    "\n",
    "for t in threshold:\n",
    "    y_pred_temp_log=np.where(y_pred_proba_log[:,2]>t,True,False)\n",
    "    y_test_temp=y_test==2\n",
    "    TP=(y_test_temp & y_pred_temp_log).sum()\n",
    "    TPFP=y_pred_temp_log.sum()\n",
    "    TPFN=y_test_temp.sum()\n",
    "\n",
    "    prec=TP/TPFP\n",
    "    reca=TP/TPFN\n",
    "\n",
    "    F1 =2*(prec*reca)/(prec+reca)\n",
    "\n",
    "    precision.append(TP/TPFP)\n",
    "    recall.append(TP/TPFN)\n",
    "    f1.append(F1)\n",
    "\n",
    "fig,ax=plt.subplots()\n",
    "ax.plot(threshold,precision,label='Precision')\n",
    "ax.plot(threshold,recall,label='Recall')\n",
    "ax.plot(threshold,f1,label='F1')\n",
    "ax.set_xlabel('Threshold')\n",
    "ax.set_ylabel('Score')\n",
    "ax.grid(True)\n",
    "ax.legend()\n",
    "plt.show()"
   ]
  },
  {
   "cell_type": "code",
   "execution_count": 12,
   "metadata": {},
   "outputs": [
    {
     "data": {
      "text/plain": [
       "0.37"
      ]
     },
     "execution_count": 12,
     "metadata": {},
     "output_type": "execute_result"
    }
   ],
   "source": [
    "threshold[np.argmax(f1)]"
   ]
  },
  {
   "cell_type": "code",
   "execution_count": null,
   "metadata": {},
   "outputs": [],
   "source": [
    "#### Revisión de la NB\n"
   ]
  },
  {
   "cell_type": "code",
   "execution_count": 13,
   "metadata": {},
   "outputs": [
    {
     "name": "stdout",
     "output_type": "stream",
     "text": [
      "[[ 8 10  7]\n",
      " [ 2 11  2]\n",
      " [ 1  0 10]]\n"
     ]
    }
   ],
   "source": [
    "print(confusion_matrix(y_test,y_pred_NB))"
   ]
  },
  {
   "cell_type": "code",
   "execution_count": 15,
   "metadata": {},
   "outputs": [
    {
     "name": "stdout",
     "output_type": "stream",
     "text": [
      "              precision    recall  f1-score   support\n",
      "\n",
      "           0       0.73      0.32      0.44        25\n",
      "           1       0.52      0.73      0.61        15\n",
      "           2       0.53      0.91      0.67        11\n",
      "\n",
      "    accuracy                           0.57        51\n",
      "   macro avg       0.59      0.65      0.57        51\n",
      "weighted avg       0.62      0.57      0.54        51\n",
      "\n"
     ]
    }
   ],
   "source": [
    "print(classification_report(y_test,y_pred_NB))"
   ]
  },
  {
   "cell_type": "code",
   "execution_count": 16,
   "metadata": {},
   "outputs": [
    {
     "name": "stderr",
     "output_type": "stream",
     "text": [
      "C:\\Users\\julie\\AppData\\Local\\Temp\\ipykernel_19468\\83665692.py:15: RuntimeWarning: invalid value encountered in longlong_scalars\n",
      "  prec=TP/TPFP\n",
      "C:\\Users\\julie\\AppData\\Local\\Temp\\ipykernel_19468\\83665692.py:20: RuntimeWarning: invalid value encountered in longlong_scalars\n",
      "  precision.append(TP/TPFP)\n"
     ]
    },
    {
     "data": {
      "image/png": "[encoded data removed]",
      "text/plain": [
       "<Figure size 640x480 with 1 Axes>"
      ]
     },
     "metadata": {},
     "output_type": "display_data"
    }
   ],
   "source": [
    "threshold= np.arange(0.01,0.99,0.01)\n",
    "precision=[]\n",
    "recall=[]\n",
    "f1=[]\n",
    "tpr=[]\n",
    "fpr=[]\n",
    "\n",
    "for t in threshold:\n",
    "    y_pred_temp_log=np.where(y_pred_proba_NB[:,2]>t,True,False)\n",
    "    y_test_temp=y_test==2\n",
    "    TP=(y_test_temp & y_pred_temp_log).sum()\n",
    "    TPFP=y_pred_temp_log.sum()\n",
    "    TPFN=y_test_temp.sum()\n",
    "\n",
    "    prec=TP/TPFP\n",
    "    reca=TP/TPFN\n",
    "\n",
    "    F1 =2*(prec*reca)/(prec+reca)\n",
    "\n",
    "    precision.append(TP/TPFP)\n",
    "    recall.append(TP/TPFN)\n",
    "    f1.append(F1)\n",
    "\n",
    "fig,ax=plt.subplots()\n",
    "ax.plot(threshold,precision,label='Precision')\n",
    "ax.plot(threshold,recall,label='Recall')\n",
    "ax.plot(threshold,f1,label='F1')\n",
    "ax.set_xlabel('Threshold')\n",
    "ax.set_ylabel('Score')\n",
    "ax.grid(True)\n",
    "ax.legend()\n",
    "plt.show()"
   ]
  }
 ],
 "metadata": {
  "kernelspec": {
   "display_name": "base",
   "language": "python",
   "name": "python3"
  },
  "language_info": {
   "codemirror_mode": {
    "name": "ipython",
    "version": 3
   },
   "file_extension": ".py",
   "mimetype": "text/x-python",
   "name": "python",
   "nbconvert_exporter": "python",
   "pygments_lexer": "ipython3",
   "version": "3.10.9"
  }
 },
 "nbformat": 4,
 "nbformat_minor": 2
}
